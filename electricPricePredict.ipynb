{
 "cells": [
  {
   "cell_type": "code",
   "execution_count": 25,
   "metadata": {},
   "outputs": [],
   "source": [
    "import pandas as pd\n",
    "import xgboost as xgb\n",
    "from sklearn.model_selection import train_test_split\n",
    "from sklearn.metrics import accuracy_score\n",
    "from sklearn.preprocessing import LabelEncoder\n",
    "from sklearn.model_selection import cross_val_score\n",
    "from sklearn.model_selection import KFold\n",
    "from sklearn.metrics import confusion_matrix\n",
    "import seaborn as sns\n",
    "import matplotlib.pyplot as plt\n",
    "from sklearn.metrics import f1_score\n",
    "from sklearn.metrics import roc_curve\n",
    "from sklearn.ensemble import RandomForestClassifier"
   ]
  },
  {
   "cell_type": "code",
   "execution_count": 37,
   "metadata": {},
   "outputs": [],
   "source": [
    "# Load the dataset\n",
    "df = pd.read_csv('/Users/lucasmazza/Desktop/AusElectData/AusElectrical.ipynb/electricity-normalized.csv')  # Replace with the actual filename or URL"
   ]
  },
  {
   "cell_type": "code",
   "execution_count": 38,
   "metadata": {},
   "outputs": [],
   "source": [
    "\n",
    "## Create an instance of LabelEncoder\n",
    "label_encoder = LabelEncoder()\n",
    "\n",
    "# Encode categorical column\n",
    "df['class']= label_encoder.fit_transform(df['class'])"
   ]
  },
  {
   "cell_type": "code",
   "execution_count": 39,
   "metadata": {},
   "outputs": [],
   "source": [
    "# Split the dataset into features (X) and the target variable (y)\n",
    "X = df.drop('class', axis=1)\n",
    "y = df['class']\n",
    "\n",
    "# Split the data into training and testing sets\n",
    "X_train, X_test, y_train, y_test = train_test_split(X, y, test_size=0.2, random_state=42)"
   ]
  },
  {
   "cell_type": "code",
   "execution_count": 11,
   "metadata": {},
   "outputs": [
    {
     "data": {
      "text/html": [
       "<style>#sk-container-id-1 {color: black;background-color: white;}#sk-container-id-1 pre{padding: 0;}#sk-container-id-1 div.sk-toggleable {background-color: white;}#sk-container-id-1 label.sk-toggleable__label {cursor: pointer;display: block;width: 100%;margin-bottom: 0;padding: 0.3em;box-sizing: border-box;text-align: center;}#sk-container-id-1 label.sk-toggleable__label-arrow:before {content: \"▸\";float: left;margin-right: 0.25em;color: #696969;}#sk-container-id-1 label.sk-toggleable__label-arrow:hover:before {color: black;}#sk-container-id-1 div.sk-estimator:hover label.sk-toggleable__label-arrow:before {color: black;}#sk-container-id-1 div.sk-toggleable__content {max-height: 0;max-width: 0;overflow: hidden;text-align: left;background-color: #f0f8ff;}#sk-container-id-1 div.sk-toggleable__content pre {margin: 0.2em;color: black;border-radius: 0.25em;background-color: #f0f8ff;}#sk-container-id-1 input.sk-toggleable__control:checked~div.sk-toggleable__content {max-height: 200px;max-width: 100%;overflow: auto;}#sk-container-id-1 input.sk-toggleable__control:checked~label.sk-toggleable__label-arrow:before {content: \"▾\";}#sk-container-id-1 div.sk-estimator input.sk-toggleable__control:checked~label.sk-toggleable__label {background-color: #d4ebff;}#sk-container-id-1 div.sk-label input.sk-toggleable__control:checked~label.sk-toggleable__label {background-color: #d4ebff;}#sk-container-id-1 input.sk-hidden--visually {border: 0;clip: rect(1px 1px 1px 1px);clip: rect(1px, 1px, 1px, 1px);height: 1px;margin: -1px;overflow: hidden;padding: 0;position: absolute;width: 1px;}#sk-container-id-1 div.sk-estimator {font-family: monospace;background-color: #f0f8ff;border: 1px dotted black;border-radius: 0.25em;box-sizing: border-box;margin-bottom: 0.5em;}#sk-container-id-1 div.sk-estimator:hover {background-color: #d4ebff;}#sk-container-id-1 div.sk-parallel-item::after {content: \"\";width: 100%;border-bottom: 1px solid gray;flex-grow: 1;}#sk-container-id-1 div.sk-label:hover label.sk-toggleable__label {background-color: #d4ebff;}#sk-container-id-1 div.sk-serial::before {content: \"\";position: absolute;border-left: 1px solid gray;box-sizing: border-box;top: 0;bottom: 0;left: 50%;z-index: 0;}#sk-container-id-1 div.sk-serial {display: flex;flex-direction: column;align-items: center;background-color: white;padding-right: 0.2em;padding-left: 0.2em;position: relative;}#sk-container-id-1 div.sk-item {position: relative;z-index: 1;}#sk-container-id-1 div.sk-parallel {display: flex;align-items: stretch;justify-content: center;background-color: white;position: relative;}#sk-container-id-1 div.sk-item::before, #sk-container-id-1 div.sk-parallel-item::before {content: \"\";position: absolute;border-left: 1px solid gray;box-sizing: border-box;top: 0;bottom: 0;left: 50%;z-index: -1;}#sk-container-id-1 div.sk-parallel-item {display: flex;flex-direction: column;z-index: 1;position: relative;background-color: white;}#sk-container-id-1 div.sk-parallel-item:first-child::after {align-self: flex-end;width: 50%;}#sk-container-id-1 div.sk-parallel-item:last-child::after {align-self: flex-start;width: 50%;}#sk-container-id-1 div.sk-parallel-item:only-child::after {width: 0;}#sk-container-id-1 div.sk-dashed-wrapped {border: 1px dashed gray;margin: 0 0.4em 0.5em 0.4em;box-sizing: border-box;padding-bottom: 0.4em;background-color: white;}#sk-container-id-1 div.sk-label label {font-family: monospace;font-weight: bold;display: inline-block;line-height: 1.2em;}#sk-container-id-1 div.sk-label-container {text-align: center;}#sk-container-id-1 div.sk-container {/* jupyter's `normalize.less` sets `[hidden] { display: none; }` but bootstrap.min.css set `[hidden] { display: none !important; }` so we also need the `!important` here to be able to override the default hidden behavior on the sphinx rendered scikit-learn.org. See: https://github.com/scikit-learn/scikit-learn/issues/21755 */display: inline-block !important;position: relative;}#sk-container-id-1 div.sk-text-repr-fallback {display: none;}</style><div id=\"sk-container-id-1\" class=\"sk-top-container\"><div class=\"sk-text-repr-fallback\"><pre>XGBClassifier(base_score=None, booster=None, callbacks=None,\n",
       "              colsample_bylevel=None, colsample_bynode=None,\n",
       "              colsample_bytree=None, early_stopping_rounds=None,\n",
       "              enable_categorical=False, eval_metric=None, feature_types=None,\n",
       "              gamma=None, gpu_id=None, grow_policy=None, importance_type=None,\n",
       "              interaction_constraints=None, learning_rate=None, max_bin=None,\n",
       "              max_cat_threshold=None, max_cat_to_onehot=None,\n",
       "              max_delta_step=None, max_depth=None, max_leaves=None,\n",
       "              min_child_weight=None, missing=nan, monotone_constraints=None,\n",
       "              n_estimators=100, n_jobs=None, num_parallel_tree=None,\n",
       "              predictor=None, random_state=None, ...)</pre><b>In a Jupyter environment, please rerun this cell to show the HTML representation or trust the notebook. <br />On GitHub, the HTML representation is unable to render, please try loading this page with nbviewer.org.</b></div><div class=\"sk-container\" hidden><div class=\"sk-item\"><div class=\"sk-estimator sk-toggleable\"><input class=\"sk-toggleable__control sk-hidden--visually\" id=\"sk-estimator-id-1\" type=\"checkbox\" checked><label for=\"sk-estimator-id-1\" class=\"sk-toggleable__label sk-toggleable__label-arrow\">XGBClassifier</label><div class=\"sk-toggleable__content\"><pre>XGBClassifier(base_score=None, booster=None, callbacks=None,\n",
       "              colsample_bylevel=None, colsample_bynode=None,\n",
       "              colsample_bytree=None, early_stopping_rounds=None,\n",
       "              enable_categorical=False, eval_metric=None, feature_types=None,\n",
       "              gamma=None, gpu_id=None, grow_policy=None, importance_type=None,\n",
       "              interaction_constraints=None, learning_rate=None, max_bin=None,\n",
       "              max_cat_threshold=None, max_cat_to_onehot=None,\n",
       "              max_delta_step=None, max_depth=None, max_leaves=None,\n",
       "              min_child_weight=None, missing=nan, monotone_constraints=None,\n",
       "              n_estimators=100, n_jobs=None, num_parallel_tree=None,\n",
       "              predictor=None, random_state=None, ...)</pre></div></div></div></div></div>"
      ],
      "text/plain": [
       "XGBClassifier(base_score=None, booster=None, callbacks=None,\n",
       "              colsample_bylevel=None, colsample_bynode=None,\n",
       "              colsample_bytree=None, early_stopping_rounds=None,\n",
       "              enable_categorical=False, eval_metric=None, feature_types=None,\n",
       "              gamma=None, gpu_id=None, grow_policy=None, importance_type=None,\n",
       "              interaction_constraints=None, learning_rate=None, max_bin=None,\n",
       "              max_cat_threshold=None, max_cat_to_onehot=None,\n",
       "              max_delta_step=None, max_depth=None, max_leaves=None,\n",
       "              min_child_weight=None, missing=nan, monotone_constraints=None,\n",
       "              n_estimators=100, n_jobs=None, num_parallel_tree=None,\n",
       "              predictor=None, random_state=None, ...)"
      ]
     },
     "execution_count": 11,
     "metadata": {},
     "output_type": "execute_result"
    }
   ],
   "source": [
    "# Define the XGBoost classifier\n",
    "model = xgb.XGBClassifier()\n",
    "\n",
    "# Train the model\n",
    "model.fit(X_train, y_train)\n"
   ]
  },
  {
   "cell_type": "code",
   "execution_count": 12,
   "metadata": {},
   "outputs": [],
   "source": [
    "# Predict the labels for the test set\n",
    "y_pred = model.predict(X_test)\n"
   ]
  },
  {
   "cell_type": "code",
   "execution_count": 13,
   "metadata": {},
   "outputs": [
    {
     "name": "stdout",
     "output_type": "stream",
     "text": [
      "Accuracy: 0.914156460333223\n"
     ]
    }
   ],
   "source": [
    "# Calculate the accuracy of the model\n",
    "accuracy = accuracy_score(y_test, y_pred)\n",
    "print(\"Accuracy:\", accuracy)\n"
   ]
  },
  {
   "cell_type": "code",
   "execution_count": 15,
   "metadata": {},
   "outputs": [
    {
     "name": "stdout",
     "output_type": "stream",
     "text": [
      "Cross-Validation Results:\n",
      "Average Accuracy: 0.9124514406657263\n",
      "Standard Deviation: 0.002571726633451874\n"
     ]
    }
   ],
   "source": [
    "# Define the number of folds for cross-validation\n",
    "num_folds = 5\n",
    "\n",
    "# Create the cross-validation object\n",
    "kfold = KFold(n_splits=num_folds, shuffle=True, random_state=42)\n",
    "\n",
    "# Perform cross-validation\n",
    "cv_results = cross_val_score(model, X, y, cv=kfold, scoring='accuracy')\n",
    "\n",
    "# Print the results\n",
    "print('Cross-Validation Results:')\n",
    "print('Average Accuracy:', cv_results.mean())\n",
    "print('Standard Deviation:', cv_results.std())"
   ]
  },
  {
   "cell_type": "code",
   "execution_count": 19,
   "metadata": {},
   "outputs": [
    {
     "data": {
      "image/png": "[encoded data removed]",
      "text/plain": [
       "<Figure size 864x720 with 1 Axes>"
      ]
     },
     "metadata": {
      "needs_background": "light"
     },
     "output_type": "display_data"
    }
   ],
   "source": [
    "cm = confusion_matrix(y_test, y_pred)\n",
    "plt.figure(figsize=(12, 10))\n",
    "sns.heatmap(cm, annot=True, cmap=\"Reds\", fmt=\"d\", cbar=False)\n",
    "plt.xlabel('Predicted')\n",
    "plt.ylabel('Actual')\n",
    "plt.title('Confusion Matrix')\n",
    "plt.show()"
   ]
  },
  {
   "cell_type": "code",
   "execution_count": 22,
   "metadata": {},
   "outputs": [
    {
     "name": "stdout",
     "output_type": "stream",
     "text": [
      "F1 score:  0.8986715290440218\n"
     ]
    }
   ],
   "source": [
    "f1 = f1_score(y_test, y_pred)\n",
    "print(\"F1 score: \", f1)"
   ]
  },
  {
   "cell_type": "code",
   "execution_count": 24,
   "metadata": {},
   "outputs": [
    {
     "name": "stdout",
     "output_type": "stream",
     "text": [
      "              precision    recall  f1-score   support\n",
      "\n",
      "           0       0.74      0.88      0.80      5191\n",
      "           1       0.78      0.58      0.67      3872\n",
      "\n",
      "    accuracy                           0.75      9063\n",
      "   macro avg       0.76      0.73      0.73      9063\n",
      "weighted avg       0.76      0.75      0.74      9063\n",
      "\n"
     ]
    },
    {
     "name": "stderr",
     "output_type": "stream",
     "text": [
      "/Users/lucasmazza/opt/anaconda3/envs/my-env/lib/python3.9/site-packages/sklearn/linear_model/_logistic.py:444: ConvergenceWarning: lbfgs failed to converge (status=1):\n",
      "STOP: TOTAL NO. of ITERATIONS REACHED LIMIT.\n",
      "\n",
      "Increase the number of iterations (max_iter) or scale the data as shown in:\n",
      "    https://scikit-learn.org/stable/modules/preprocessing.html\n",
      "Please also refer to the documentation for alternative solver options:\n",
      "    https://scikit-learn.org/stable/modules/linear_model.html#logistic-regression\n",
      "  n_iter_i = _check_optimize_result(\n"
     ]
    }
   ],
   "source": [
    "from sklearn.linear_model import LogisticRegression\n",
    "from sklearn.metrics import classification_report\n",
    "\n",
    "\n",
    "logreg = LogisticRegression()\n",
    "logreg.fit(X_train, y_train)\n",
    "\n",
    "# 4. Model Evaluation\n",
    "y_pred = logreg.predict(X_test)\n",
    "print(classification_report(y_test, y_pred))"
   ]
  },
  {
   "cell_type": "code",
   "execution_count": 65,
   "metadata": {},
   "outputs": [
    {
     "name": "stdout",
     "output_type": "stream",
     "text": [
      "Accuracy: 0.9062120710581485\n"
     ]
    },
    {
     "name": "stderr",
     "output_type": "stream",
     "text": [
      "/Users/lucasmazza/opt/anaconda3/envs/my-env/lib/python3.9/site-packages/sklearn/base.py:443: UserWarning: X has feature names, but RandomForestClassifier was fitted without feature names\n",
      "  warnings.warn(\n"
     ]
    }
   ],
   "source": [
    "rf = RandomForestClassifier(n_estimators=100, random_state=42)\n",
    "rf.fit(X_train, y_train)\n",
    "predictions = rf.predict(X_test)\n",
    "accuracy = accuracy_score(y_test, predictions)\n",
    "print(\"Accuracy:\", accuracy)\n"
   ]
  },
  {
   "cell_type": "code",
   "execution_count": 52,
   "metadata": {},
   "outputs": [],
   "source": [
    "params = {\n",
    "    'objective': 'binary:logistic',  # for binary classification\n",
    "    'eval_metric': 'accuracy',\n",
    "    'max_depth': 5,\n",
    "    'eta': 0.1,\n",
    "    'subsample': 0.8,\n",
    "    'colsample_bytree': 0.8\n",
    "}\n"
   ]
  },
  {
   "cell_type": "code",
   "execution_count": 67,
   "metadata": {},
   "outputs": [
    {
     "name": "stdout",
     "output_type": "stream",
     "text": [
      "[0]\tTest-logloss:0.66029\n",
      "[1]\tTest-logloss:0.63321\n",
      "[2]\tTest-logloss:0.61087\n",
      "[3]\tTest-logloss:0.59260\n",
      "[4]\tTest-logloss:0.57616\n",
      "[5]\tTest-logloss:0.56267\n",
      "[6]\tTest-logloss:0.54919\n",
      "[7]\tTest-logloss:0.53886\n",
      "[8]\tTest-logloss:0.52993\n",
      "[9]\tTest-logloss:0.52080\n",
      "[10]\tTest-logloss:0.51297\n",
      "[11]\tTest-logloss:0.50682\n",
      "[12]\tTest-logloss:0.50052\n",
      "[13]\tTest-logloss:0.49486\n",
      "[14]\tTest-logloss:0.49037\n",
      "[15]\tTest-logloss:0.48569\n",
      "[16]\tTest-logloss:0.48153\n",
      "[17]\tTest-logloss:0.47738\n",
      "[18]\tTest-logloss:0.47392\n",
      "[19]\tTest-logloss:0.47100\n",
      "[20]\tTest-logloss:0.46816\n",
      "[21]\tTest-logloss:0.46556\n",
      "[22]\tTest-logloss:0.46333\n",
      "[23]\tTest-logloss:0.46118\n",
      "[24]\tTest-logloss:0.45938\n",
      "[25]\tTest-logloss:0.45715\n",
      "[26]\tTest-logloss:0.45491\n",
      "[27]\tTest-logloss:0.45262\n",
      "[28]\tTest-logloss:0.44907\n",
      "[29]\tTest-logloss:0.44568\n",
      "[30]\tTest-logloss:0.44380\n",
      "[31]\tTest-logloss:0.44065\n",
      "[32]\tTest-logloss:0.43734\n",
      "[33]\tTest-logloss:0.43422\n",
      "[34]\tTest-logloss:0.43266\n",
      "[35]\tTest-logloss:0.43145\n",
      "[36]\tTest-logloss:0.43031\n",
      "[37]\tTest-logloss:0.42869\n",
      "[38]\tTest-logloss:0.42656\n",
      "[39]\tTest-logloss:0.42589\n",
      "[40]\tTest-logloss:0.42417\n",
      "[41]\tTest-logloss:0.42272\n",
      "[42]\tTest-logloss:0.42141\n",
      "[43]\tTest-logloss:0.42032\n",
      "[44]\tTest-logloss:0.41948\n",
      "[45]\tTest-logloss:0.41800\n",
      "[46]\tTest-logloss:0.41591\n",
      "[47]\tTest-logloss:0.41476\n",
      "[48]\tTest-logloss:0.41406\n",
      "[49]\tTest-logloss:0.41236\n",
      "[50]\tTest-logloss:0.41181\n",
      "[51]\tTest-logloss:0.41003\n",
      "[52]\tTest-logloss:0.40925\n",
      "[53]\tTest-logloss:0.40809\n",
      "[54]\tTest-logloss:0.40758\n",
      "[55]\tTest-logloss:0.40695\n",
      "[56]\tTest-logloss:0.40538\n",
      "[57]\tTest-logloss:0.40487\n",
      "[58]\tTest-logloss:0.40401\n",
      "[59]\tTest-logloss:0.40301\n",
      "[60]\tTest-logloss:0.40251\n",
      "[61]\tTest-logloss:0.40183\n",
      "[62]\tTest-logloss:0.40131\n",
      "[63]\tTest-logloss:0.40034\n",
      "[64]\tTest-logloss:0.39943\n",
      "[65]\tTest-logloss:0.39855\n",
      "[66]\tTest-logloss:0.39788\n",
      "[67]\tTest-logloss:0.39748\n",
      "[68]\tTest-logloss:0.39712\n",
      "[69]\tTest-logloss:0.39628\n",
      "[70]\tTest-logloss:0.39549\n",
      "[71]\tTest-logloss:0.39491\n",
      "[72]\tTest-logloss:0.39395\n",
      "[73]\tTest-logloss:0.39285\n",
      "[74]\tTest-logloss:0.39206\n",
      "[75]\tTest-logloss:0.39132\n",
      "[76]\tTest-logloss:0.39068\n",
      "[77]\tTest-logloss:0.39035\n",
      "[78]\tTest-logloss:0.38926\n",
      "[79]\tTest-logloss:0.38860\n",
      "[80]\tTest-logloss:0.38814\n",
      "[81]\tTest-logloss:0.38729\n",
      "[82]\tTest-logloss:0.38695\n",
      "[83]\tTest-logloss:0.38631\n",
      "[84]\tTest-logloss:0.38573\n",
      "[85]\tTest-logloss:0.38499\n",
      "[86]\tTest-logloss:0.38451\n",
      "[87]\tTest-logloss:0.38381\n",
      "[88]\tTest-logloss:0.38312\n",
      "[89]\tTest-logloss:0.38285\n",
      "[90]\tTest-logloss:0.38214\n",
      "[91]\tTest-logloss:0.38162\n",
      "[92]\tTest-logloss:0.38101\n",
      "[93]\tTest-logloss:0.38023\n",
      "[94]\tTest-logloss:0.37980\n",
      "[95]\tTest-logloss:0.37928\n",
      "[96]\tTest-logloss:0.37894\n",
      "[97]\tTest-logloss:0.37850\n",
      "[98]\tTest-logloss:0.37799\n",
      "[99]\tTest-logloss:0.37765\n"
     ]
    },
    {
     "name": "stderr",
     "output_type": "stream",
     "text": [
      "/Users/lucasmazza/opt/anaconda3/envs/my-env/lib/python3.9/site-packages/sklearn/base.py:443: UserWarning: X has feature names, but RandomForestClassifier was fitted without feature names\n",
      "  warnings.warn(\n"
     ]
    }
   ],
   "source": [
    "import pandas as pd\n",
    "import xgboost as xgb\n",
    "\n",
    "# Assuming you have a DataFrame called 'data' containing the training data\n",
    "# Create the DMatrix for training\n",
    "dtrain = xgb.DMatrix(data=df[['date', 'day', 'period', 'nswprice', 'nswdemand', 'vicprice', 'vicdemand', 'transfer']], label=df['class'])\n",
    "dtest = xgb.DMatrix(data=X_test[['date', 'day', 'period', 'nswprice', 'nswdemand', 'vicprice', 'vicdemand', 'transfer']], label=y_test)\n",
    "# Define the XGBoost parameters\n",
    "params = {\n",
    "    'objective': 'binary:logistic',\n",
    "    'eval_metric': 'logloss',\n",
    "    'eta': 0.1,\n",
    "    'max_depth': 3,\n",
    "    'min_child_weight': 1\n",
    "}\n",
    "\n",
    "num_rounds = 100\n",
    "\n",
    "# Train the model\n",
    "# Train the model with evaluation on the test data\n",
    "xgb_model = xgb.train(params, dtrain, num_rounds, evals=[(dtest, 'Test')])\n",
    "\n",
    "rf_predictions = rf.predict(X_test)\n",
    "xgb_predictions = xgb_model.predict(dtest)\n",
    "\n",
    "ensemble_predictions = (rf_predictions + xgb_predictions) / 2  # Average the predictions\n",
    "\n",
    "\n"
   ]
  },
  {
   "cell_type": "code",
   "execution_count": 68,
   "metadata": {},
   "outputs": [
    {
     "name": "stdout",
     "output_type": "stream",
     "text": [
      "Ensemble Accuracy: 0.9062120710581485\n"
     ]
    }
   ],
   "source": [
    "# Convert ensemble_predictions to binary labels\n",
    "ensemble_predictions_binary = [1 if pred >= 0.5 else 0 for pred in ensemble_predictions]\n",
    "\n",
    "# Calculate the accuracy score\n",
    "accuracy = accuracy_score(y_test, ensemble_predictions_binary)\n",
    "\n",
    "print(\"Ensemble Accuracy:\", accuracy)"
   ]
  },
  {
   "cell_type": "code",
   "execution_count": 51,
   "metadata": {},
   "outputs": [
    {
     "ename": "TypeError",
     "evalue": "('invalid cache item: ndarray', [array(<xgboost.core.DMatrix object at 0x143adcdc0>, dtype=object)])",
     "output_type": "error",
     "traceback": [
      "\u001b[0;31m---------------------------------------------------------------------------\u001b[0m",
      "\u001b[0;31mTypeError\u001b[0m                                 Traceback (most recent call last)",
      "Cell \u001b[0;32mIn[51], line 2\u001b[0m\n\u001b[1;32m      1\u001b[0m num_rounds \u001b[39m=\u001b[39m \u001b[39m100\u001b[39m  \u001b[39m# number of boosting rounds\u001b[39;00m\n\u001b[0;32m----> 2\u001b[0m xgb_model \u001b[39m=\u001b[39m xgb\u001b[39m.\u001b[39;49mtrain(params, dtrain, num_rounds)\n",
      "File \u001b[0;32m~/opt/anaconda3/envs/my-env/lib/python3.9/site-packages/xgboost/core.py:620\u001b[0m, in \u001b[0;36mrequire_keyword_args.<locals>.throw_if.<locals>.inner_f\u001b[0;34m(*args, **kwargs)\u001b[0m\n\u001b[1;32m    618\u001b[0m \u001b[39mfor\u001b[39;00m k, arg \u001b[39min\u001b[39;00m \u001b[39mzip\u001b[39m(sig\u001b[39m.\u001b[39mparameters, args):\n\u001b[1;32m    619\u001b[0m     kwargs[k] \u001b[39m=\u001b[39m arg\n\u001b[0;32m--> 620\u001b[0m \u001b[39mreturn\u001b[39;00m func(\u001b[39m*\u001b[39;49m\u001b[39m*\u001b[39;49mkwargs)\n",
      "File \u001b[0;32m~/opt/anaconda3/envs/my-env/lib/python3.9/site-packages/xgboost/training.py:160\u001b[0m, in \u001b[0;36mtrain\u001b[0;34m(params, dtrain, num_boost_round, evals, obj, feval, maximize, early_stopping_rounds, evals_result, verbose_eval, xgb_model, callbacks, custom_metric)\u001b[0m\n\u001b[1;32m    157\u001b[0m metric_fn \u001b[39m=\u001b[39m _configure_custom_metric(feval, custom_metric)\n\u001b[1;32m    158\u001b[0m evals \u001b[39m=\u001b[39m \u001b[39mlist\u001b[39m(evals) \u001b[39mif\u001b[39;00m evals \u001b[39melse\u001b[39;00m []\n\u001b[0;32m--> 160\u001b[0m bst \u001b[39m=\u001b[39m Booster(params, [dtrain] \u001b[39m+\u001b[39;49m [d[\u001b[39m0\u001b[39;49m] \u001b[39mfor\u001b[39;49;00m d \u001b[39min\u001b[39;49;00m evals], model_file\u001b[39m=\u001b[39;49mxgb_model)\n\u001b[1;32m    161\u001b[0m start_iteration \u001b[39m=\u001b[39m \u001b[39m0\u001b[39m\n\u001b[1;32m    163\u001b[0m _assert_new_callback(callbacks)\n",
      "File \u001b[0;32m~/opt/anaconda3/envs/my-env/lib/python3.9/site-packages/xgboost/core.py:1548\u001b[0m, in \u001b[0;36mBooster.__init__\u001b[0;34m(self, params, cache, model_file)\u001b[0m\n\u001b[1;32m   1546\u001b[0m \u001b[39mfor\u001b[39;00m d \u001b[39min\u001b[39;00m cache:\n\u001b[1;32m   1547\u001b[0m     \u001b[39mif\u001b[39;00m \u001b[39mnot\u001b[39;00m \u001b[39misinstance\u001b[39m(d, DMatrix):\n\u001b[0;32m-> 1548\u001b[0m         \u001b[39mraise\u001b[39;00m \u001b[39mTypeError\u001b[39;00m(\u001b[39mf\u001b[39m\u001b[39m'\u001b[39m\u001b[39minvalid cache item: \u001b[39m\u001b[39m{\u001b[39;00m\u001b[39mtype\u001b[39m(d)\u001b[39m.\u001b[39m\u001b[39m__name__\u001b[39m\u001b[39m}\u001b[39;00m\u001b[39m'\u001b[39m, cache)\n\u001b[1;32m   1550\u001b[0m dmats \u001b[39m=\u001b[39m c_array(ctypes\u001b[39m.\u001b[39mc_void_p, [d\u001b[39m.\u001b[39mhandle \u001b[39mfor\u001b[39;00m d \u001b[39min\u001b[39;00m cache])\n\u001b[1;32m   1551\u001b[0m \u001b[39mself\u001b[39m\u001b[39m.\u001b[39mhandle: Optional[ctypes\u001b[39m.\u001b[39mc_void_p] \u001b[39m=\u001b[39m ctypes\u001b[39m.\u001b[39mc_void_p()\n",
      "\u001b[0;31mTypeError\u001b[0m: ('invalid cache item: ndarray', [array(<xgboost.core.DMatrix object at 0x143adcdc0>, dtype=object)])"
     ]
    }
   ],
   "source": []
  }
 ],
 "metadata": {
  "kernelspec": {
   "display_name": "my-env",
   "language": "python",
   "name": "python3"
  },
  "language_info": {
   "codemirror_mode": {
    "name": "ipython",
    "version": 3
   },
   "file_extension": ".py",
   "mimetype": "text/x-python",
   "name": "python",
   "nbconvert_exporter": "python",
   "pygments_lexer": "ipython3",
   "version": "3.9.16"
  },
  "orig_nbformat": 4
 },
 "nbformat": 4,
 "nbformat_minor": 2
}
